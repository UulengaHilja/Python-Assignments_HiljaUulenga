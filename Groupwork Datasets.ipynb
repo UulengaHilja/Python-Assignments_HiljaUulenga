{
 "cells": [
  {
   "cell_type": "code",
   "execution_count": 3,
   "id": "ef5cf40a",
   "metadata": {},
   "outputs": [
    {
     "name": "stdout",
     "output_type": "stream",
     "text": [
      "Central Tendency:\n",
      " S1    429.666667\n",
      "S2    372.487973\n",
      "S3    393.072165\n",
      "dtype: float64\n",
      "Spread Measures:\n",
      "              S1          S2          S3\n",
      "std    9.623367    5.018829   11.365326\n",
      "min  405.000000  354.000000  348.000000\n",
      "25%  424.000000  369.000000  387.000000\n",
      "50%  430.000000  372.000000  392.000000\n",
      "75%  435.000000  376.000000  398.000000\n",
      "max  460.000000  391.000000  433.000000\n",
      "Means:\n",
      " S1    429.666667\n",
      "S2    372.487973\n",
      "S3    393.072165\n",
      "dtype: float64\n",
      "Variances:\n",
      " S1     92.609195\n",
      "S2     25.188648\n",
      "S3    129.170636\n",
      "dtype: float64\n",
      "Standard Deviations:\n",
      " S1     9.623367\n",
      "S2     5.018829\n",
      "S3    11.365326\n",
      "dtype: float64\n",
      "The outlier sensor is: 260\n",
      "Quartiles:\n",
      " [(0.999, 2.0], (0.999, 2.0], (2.0, 3.0], (2.0, 3.0], (0.999, 2.0], ..., (0.999, 2.0], (2.0, 3.0], (0.999, 2.0], (3.0, 4.0], (0.999, 2.0]]\n",
      "Length: 20\n",
      "Categories (4, interval[float64, right]): [(0.999, 2.0] < (2.0, 3.0] < (3.0, 4.0] < (4.0, 6.0]]\n"
     ]
    }
   ],
   "source": [
    "import pandas as pd\n",
    "import numpy as np\n",
    "\n",
    "# Load the Excel sheet into a pandas DataFrame\n",
    "df = pd.read_excel('https://docs.google.com/spreadsheets/d/1jyfrgkC5GsuV3YW_DoyHHBdK1BqlKqh-/export?format=xlsx')\n",
    "\n",
    "# 1. Compute the central tendency measures\n",
    "central_tendency = df.mean()\n",
    "print('Central Tendency:\\n', central_tendency)\n",
    "\n",
    "# 2. Compute the spread measures\n",
    "spread_measures = df.describe().loc[['std', 'min', '25%', '50%', '75%', 'max']]\n",
    "print('Spread Measures:\\n', spread_measures)\n",
    "\n",
    "# 3. What can you say about S1, S2, S3 in terms of means, variance, and standard deviation\n",
    "means = df.mean()\n",
    "variances = df.var()\n",
    "stds = df.std()\n",
    "print('Means:\\n', means)\n",
    "print('Variances:\\n', variances)\n",
    "print('Standard Deviations:\\n', stds)\n",
    "\n",
    "# 4. Which one of the sensors is different from the others\n",
    "# One way to do this is to calculate the z-scores for each sensor and check which one has the highest absolute z-score\n",
    "z_scores = np.abs((df - df.mean()) / df.std())\n",
    "max_z_score = z_scores.max().max()\n",
    "outlier_sensor = z_scores.idxmax()[z_scores.max() == max_z_score].iloc[0]\n",
    "print('The outlier sensor is:', outlier_sensor)\n",
    "\n",
    "# 5. Is it possible to divide a categorical dataset using quartiles\n",
    "# No, quartiles are a way to divide a numerical dataset into four equal parts based on the distribution of the data. They cannot be used for categorical data.\n",
    "\n",
    "# 6. How can we make quartiles for a list of set of colors\n",
    "# We need to first convert the colors to a numerical format. One way to do this is to create a dictionary that maps each color to a number, then use the pandas qcut function to divide the data into quartiles.\n",
    "color_dict = {'Red': 1, 'Green': 2, 'Blue': 3, 'Yellow': 4, 'Orange': 5, 'Purple': 6}\n",
    "colors = ['Red', 'Green', 'Blue', 'Blue', 'Green', 'Red', 'Yellow', 'Orange', 'Purple', 'Blue', 'Green', 'Red', 'Blue', 'Yellow', 'Orange', 'Green', 'Blue', 'Red', 'Yellow', 'Green']\n",
    "\n",
    "# Convert colors to numerical format using the color_dict\n",
    "numeric_colors = [color_dict[color] for color in colors]\n",
    "\n",
    "# Divide the data into quartiles using pandas qcut function\n",
    "quartiles = pd.qcut(numeric_colors, q=4)\n",
    "print('Quartiles:\\n', quartiles)\n"
   ]
  },
  {
   "cell_type": "code",
   "execution_count": null,
   "id": "da05b091",
   "metadata": {},
   "outputs": [],
   "source": []
  },
  {
   "cell_type": "code",
   "execution_count": null,
   "id": "c9244ae6",
   "metadata": {},
   "outputs": [],
   "source": []
  }
 ],
 "metadata": {
  "kernelspec": {
   "display_name": "Python 3 (ipykernel)",
   "language": "python",
   "name": "python3"
  },
  "language_info": {
   "codemirror_mode": {
    "name": "ipython",
    "version": 3
   },
   "file_extension": ".py",
   "mimetype": "text/x-python",
   "name": "python",
   "nbconvert_exporter": "python",
   "pygments_lexer": "ipython3",
   "version": "3.9.13"
  }
 },
 "nbformat": 4,
 "nbformat_minor": 5
}
